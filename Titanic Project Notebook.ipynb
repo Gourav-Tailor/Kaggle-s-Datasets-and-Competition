{
  "nbformat": 4,
  "nbformat_minor": 0,
  "metadata": {
    "colab": {
      "name": "Titanic Disaster.ipynb",
      "provenance": [],
      "collapsed_sections": []
    },
    "kernelspec": {
      "name": "python3",
      "display_name": "Python 3"
    },
    "language_info": {
      "name": "python"
    }
  },
  "cells": [
    {
      "cell_type": "code",
      "metadata": {
        "id": "p7pLSBirGCUU"
      },
      "source": [
        "import pandas as pd\n",
        "import numpy as np"
      ],
      "execution_count": null,
      "outputs": []
    },
    {
      "cell_type": "code",
      "metadata": {
        "id": "sxUaGZSnGGtU"
      },
      "source": [
        "train = pd.read_csv('/content/Titanic train.csv')\n",
        "test = pd.read_csv('/content/Titanic test.csv')"
      ],
      "execution_count": null,
      "outputs": []
    },
    {
      "cell_type": "code",
      "metadata": {
        "colab": {
          "base_uri": "https://localhost:8080/",
          "height": 203
        },
        "id": "Id1cpTsTApAO",
        "outputId": "b1a40128-d295-4949-df41-bdd0c4353d95"
      },
      "source": [
        "train.head(5)"
      ],
      "execution_count": null,
      "outputs": [
        {
          "output_type": "execute_result",
          "data": {
            "text/html": [
              "<div>\n",
              "<style scoped>\n",
              "    .dataframe tbody tr th:only-of-type {\n",
              "        vertical-align: middle;\n",
              "    }\n",
              "\n",
              "    .dataframe tbody tr th {\n",
              "        vertical-align: top;\n",
              "    }\n",
              "\n",
              "    .dataframe thead th {\n",
              "        text-align: right;\n",
              "    }\n",
              "</style>\n",
              "<table border=\"1\" class=\"dataframe\">\n",
              "  <thead>\n",
              "    <tr style=\"text-align: right;\">\n",
              "      <th></th>\n",
              "      <th>PassengerId</th>\n",
              "      <th>Survived</th>\n",
              "      <th>Pclass</th>\n",
              "      <th>Name</th>\n",
              "      <th>Sex</th>\n",
              "      <th>Age</th>\n",
              "      <th>SibSp</th>\n",
              "      <th>Parch</th>\n",
              "      <th>Ticket</th>\n",
              "      <th>Fare</th>\n",
              "      <th>Cabin</th>\n",
              "      <th>Embarked</th>\n",
              "    </tr>\n",
              "  </thead>\n",
              "  <tbody>\n",
              "    <tr>\n",
              "      <th>0</th>\n",
              "      <td>1</td>\n",
              "      <td>0</td>\n",
              "      <td>3</td>\n",
              "      <td>Braund, Mr. Owen Harris</td>\n",
              "      <td>male</td>\n",
              "      <td>22.0</td>\n",
              "      <td>1</td>\n",
              "      <td>0</td>\n",
              "      <td>A/5 21171</td>\n",
              "      <td>7.2500</td>\n",
              "      <td>NaN</td>\n",
              "      <td>S</td>\n",
              "    </tr>\n",
              "    <tr>\n",
              "      <th>1</th>\n",
              "      <td>2</td>\n",
              "      <td>1</td>\n",
              "      <td>1</td>\n",
              "      <td>Cumings, Mrs. John Bradley (Florence Briggs Th...</td>\n",
              "      <td>female</td>\n",
              "      <td>38.0</td>\n",
              "      <td>1</td>\n",
              "      <td>0</td>\n",
              "      <td>PC 17599</td>\n",
              "      <td>71.2833</td>\n",
              "      <td>C85</td>\n",
              "      <td>C</td>\n",
              "    </tr>\n",
              "    <tr>\n",
              "      <th>2</th>\n",
              "      <td>3</td>\n",
              "      <td>1</td>\n",
              "      <td>3</td>\n",
              "      <td>Heikkinen, Miss. Laina</td>\n",
              "      <td>female</td>\n",
              "      <td>26.0</td>\n",
              "      <td>0</td>\n",
              "      <td>0</td>\n",
              "      <td>STON/O2. 3101282</td>\n",
              "      <td>7.9250</td>\n",
              "      <td>NaN</td>\n",
              "      <td>S</td>\n",
              "    </tr>\n",
              "    <tr>\n",
              "      <th>3</th>\n",
              "      <td>4</td>\n",
              "      <td>1</td>\n",
              "      <td>1</td>\n",
              "      <td>Futrelle, Mrs. Jacques Heath (Lily May Peel)</td>\n",
              "      <td>female</td>\n",
              "      <td>35.0</td>\n",
              "      <td>1</td>\n",
              "      <td>0</td>\n",
              "      <td>113803</td>\n",
              "      <td>53.1000</td>\n",
              "      <td>C123</td>\n",
              "      <td>S</td>\n",
              "    </tr>\n",
              "    <tr>\n",
              "      <th>4</th>\n",
              "      <td>5</td>\n",
              "      <td>0</td>\n",
              "      <td>3</td>\n",
              "      <td>Allen, Mr. William Henry</td>\n",
              "      <td>male</td>\n",
              "      <td>35.0</td>\n",
              "      <td>0</td>\n",
              "      <td>0</td>\n",
              "      <td>373450</td>\n",
              "      <td>8.0500</td>\n",
              "      <td>NaN</td>\n",
              "      <td>S</td>\n",
              "    </tr>\n",
              "  </tbody>\n",
              "</table>\n",
              "</div>"
            ],
            "text/plain": [
              "   PassengerId  Survived  Pclass  ...     Fare Cabin  Embarked\n",
              "0            1         0       3  ...   7.2500   NaN         S\n",
              "1            2         1       1  ...  71.2833   C85         C\n",
              "2            3         1       3  ...   7.9250   NaN         S\n",
              "3            4         1       1  ...  53.1000  C123         S\n",
              "4            5         0       3  ...   8.0500   NaN         S\n",
              "\n",
              "[5 rows x 12 columns]"
            ]
          },
          "metadata": {},
          "execution_count": 3
        }
      ]
    },
    {
      "cell_type": "code",
      "metadata": {
        "id": "npDn9AyWDXRI"
      },
      "source": [
        "train['Age'] = pd.cut(train['Age'],[0,10,20,35,50,80],labels=['kid','teen','adult','senior','old'])"
      ],
      "execution_count": null,
      "outputs": []
    },
    {
      "cell_type": "code",
      "metadata": {
        "id": "8tCKYiFhE5cI"
      },
      "source": [
        "train['Fare'] = pd.cut(train['Fare'],[0,7.910400,14.454200,31,512.329200],labels=['free','cheap','moderate','high'])"
      ],
      "execution_count": null,
      "outputs": []
    },
    {
      "cell_type": "code",
      "metadata": {
        "id": "EGjITnQPGFRI"
      },
      "source": [
        "train['Cabin'] = train['Cabin'].fillna(0)\n",
        "train['Cabin'] = train['Cabin'].apply(lambda x: 0 if (x==0) else 1)"
      ],
      "execution_count": null,
      "outputs": []
    },
    {
      "cell_type": "code",
      "metadata": {
        "id": "KOgcIHo0Gryn"
      },
      "source": [
        "train['Name'] = train['Name'].apply(lambda x: x.split(',')[1].split('.')[0].strip())"
      ],
      "execution_count": null,
      "outputs": []
    },
    {
      "cell_type": "code",
      "metadata": {
        "id": "XrzJp0rCIyRD"
      },
      "source": [
        "train['Name'].replace(['Mme', 'Ms', 'Lady', 'Mlle', 'the Countess', 'Dona'], 'Miss', inplace=True)\n",
        "train['Name'].replace(['Major', 'Col', 'Capt', 'Don', 'Sir', 'Jonkheer'], 'Mr', inplace=True)"
      ],
      "execution_count": null,
      "outputs": []
    },
    {
      "cell_type": "code",
      "metadata": {
        "id": "E5XLRJSzJa8a"
      },
      "source": [
        "train['Ticket'] = train['Ticket'].apply(lambda x: len(x.split()))"
      ],
      "execution_count": null,
      "outputs": []
    },
    {
      "cell_type": "code",
      "metadata": {
        "id": "ZS0URF1iO9Mc"
      },
      "source": [
        "train['Fare'] = train['Fare'].fillna('cheap')\n",
        "train['Age'] = train['Age'].fillna('kid')"
      ],
      "execution_count": null,
      "outputs": []
    },
    {
      "cell_type": "code",
      "metadata": {
        "colab": {
          "base_uri": "https://localhost:8080/"
        },
        "id": "uO9oFC_iKOdW",
        "outputId": "04759c0b-5f14-4060-fe93-80e3b93d8a21"
      },
      "source": [
        "test['Age'] = pd.cut(test['Age'],[0,10,20,35,50,80],labels=['kid','teen','adult','senior','old'])\n",
        "test['Fare'] = pd.cut(test['Fare'],[0,7.910400,14.454200,31,512.329200],labels=['free','cheap','moderate','high'])\n",
        "test['Cabin'] = test['Cabin'].fillna(0)\n",
        "test['Cabin'] = test['Cabin'].apply(lambda x: 0 if (x==0) else 1)\n",
        "test['Name'] = test['Name'].apply(lambda x: x.split(',')[1].split('.')[0].strip())\n",
        "test['Name'].replace(['Mme', 'Ms', 'Lady', 'Mlle', 'the Countess', 'Dona'], 'Miss', inplace=True)\n",
        "test['Name'].replace(['Major', 'Col', 'Capt', 'Don', 'Sir', 'Jonkheer'], 'Mr', inplace=True)\n",
        "test['Ticket'] = test['Ticket'].apply(lambda x: len(x.split()))\n",
        "\n",
        "test['Fare'] = test['Fare'].fillna('cheap')\n",
        "test['Age'] = test['Age'].fillna('kid')\n",
        "test.info()"
      ],
      "execution_count": null,
      "outputs": [
        {
          "output_type": "stream",
          "text": [
            "<class 'pandas.core.frame.DataFrame'>\n",
            "RangeIndex: 418 entries, 0 to 417\n",
            "Data columns (total 11 columns):\n",
            " #   Column       Non-Null Count  Dtype   \n",
            "---  ------       --------------  -----   \n",
            " 0   PassengerId  418 non-null    int64   \n",
            " 1   Pclass       418 non-null    int64   \n",
            " 2   Name         418 non-null    object  \n",
            " 3   Sex          418 non-null    object  \n",
            " 4   Age          418 non-null    category\n",
            " 5   SibSp        418 non-null    int64   \n",
            " 6   Parch        418 non-null    int64   \n",
            " 7   Ticket       418 non-null    int64   \n",
            " 8   Fare         418 non-null    category\n",
            " 9   Cabin        418 non-null    int64   \n",
            " 10  Embarked     418 non-null    object  \n",
            "dtypes: category(2), int64(6), object(3)\n",
            "memory usage: 30.7+ KB\n"
          ],
          "name": "stdout"
        }
      ]
    },
    {
      "cell_type": "code",
      "metadata": {
        "id": "3ioYsi_WKznx"
      },
      "source": [
        "y = train['Survived']\n",
        "del train['Survived']\n",
        "train_new = pd.get_dummies(train)\n",
        "test_new = pd.get_dummies(test)"
      ],
      "execution_count": null,
      "outputs": []
    },
    {
      "cell_type": "code",
      "metadata": {
        "id": "RdWLuHECNMU4"
      },
      "source": [
        "from sklearn.ensemble import RandomForestClassifier\n",
        "from sklearn.model_selection import cross_val_score"
      ],
      "execution_count": null,
      "outputs": []
    },
    {
      "cell_type": "code",
      "metadata": {
        "colab": {
          "base_uri": "https://localhost:8080/"
        },
        "id": "Pts0hP25Nauk",
        "outputId": "c5a9741b-dd6c-4051-a42e-91659cbe0e64"
      },
      "source": [
        "model = RandomForestClassifier(random_state=0, n_estimators=500, max_depth=5)\n",
        "model.fit(train_new,y)"
      ],
      "execution_count": null,
      "outputs": [
        {
          "output_type": "execute_result",
          "data": {
            "text/plain": [
              "RandomForestClassifier(bootstrap=True, ccp_alpha=0.0, class_weight=None,\n",
              "                       criterion='gini', max_depth=5, max_features='auto',\n",
              "                       max_leaf_nodes=None, max_samples=None,\n",
              "                       min_impurity_decrease=0.0, min_impurity_split=None,\n",
              "                       min_samples_leaf=1, min_samples_split=2,\n",
              "                       min_weight_fraction_leaf=0.0, n_estimators=500,\n",
              "                       n_jobs=None, oob_score=False, random_state=0, verbose=0,\n",
              "                       warm_start=False)"
            ]
          },
          "metadata": {},
          "execution_count": 14
        }
      ]
    },
    {
      "cell_type": "code",
      "metadata": {
        "id": "pByeFW3zN4wS"
      },
      "source": [
        "predictions = model.predict(test_new)"
      ],
      "execution_count": null,
      "outputs": []
    },
    {
      "cell_type": "code",
      "metadata": {
        "colab": {
          "base_uri": "https://localhost:8080/",
          "height": 50
        },
        "id": "nayERsqSOb13",
        "outputId": "ac32a1dc-2d6f-43b3-a1b0-a396d8cf594c"
      },
      "source": [
        "output = pd.DataFrame({'PassengerId': test.PassengerId, 'Survived': predictions})\n",
        "output.to_csv('my_submission.csv', index=False)\n",
        "print('Your submission was successfully saved!')\n",
        "\n",
        "from IPython.display import HTML\n",
        "import base64\n",
        "def create_download_link(df, title = \"Download CSV file\", filename = \"data.csv\"):  \n",
        "    csv = df.to_csv(index=False)\n",
        "    b64 = base64.b64encode(csv.encode())\n",
        "    payload = b64.decode()\n",
        "    html = '<a download=\"{filename}\" href=\"data:text/csv;base64,{payload}\" target=\"_blank\">{title}</a>'\n",
        "    html = html.format(payload=payload,title=title,filename=filename)\n",
        "    return HTML(html)\n",
        "create_download_link(output)"
      ],
      "execution_count": null,
      "outputs": [
        {
          "output_type": "stream",
          "text": [
            "Your submission was successfully saved!\n"
          ],
          "name": "stdout"
        },
        {
          "output_type": "execute_result",
          "data": {
            "text/html": [
              "<a download=\"data.csv\" href=\"data:text/csv;base64,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\" target=\"_blank\">Download CSV file</a>"
            ],
            "text/plain": [
              "<IPython.core.display.HTML object>"
            ]
          },
          "metadata": {},
          "execution_count": 16
        }
      ]
    },
    {
      "cell_type": "code",
      "metadata": {
        "id": "Hbru-aQeUM4u"
      },
      "source": [
        "from keras.models import Sequential\n",
        "from keras.layers import Dense"
      ],
      "execution_count": null,
      "outputs": []
    },
    {
      "cell_type": "code",
      "metadata": {
        "id": "gDoe3JhdWkkg"
      },
      "source": [
        "model = Sequential()\n",
        "model.add(Dense(26,input_dim=26,activation='relu'))\n",
        "model.add(Dense(26, activation='relu'))\n",
        "model.add(Dense(8, activation='relu'))\n",
        "model.add(Dense(1, activation='sigmoid'))\n",
        "\n",
        "model.compile(loss='binary_crossentropy', optimizer='adam', metrics=['accuracy'])"
      ],
      "execution_count": null,
      "outputs": []
    },
    {
      "cell_type": "code",
      "metadata": {
        "colab": {
          "base_uri": "https://localhost:8080/"
        },
        "id": "iJo0OcafX9Ja",
        "outputId": "3e47b51d-360a-4fb9-e55d-eda3c02715da"
      },
      "source": [
        "model.fit(train_new, y, epochs=150, batch_size=20)"
      ],
      "execution_count": null,
      "outputs": [
        {
          "output_type": "stream",
          "text": [
            "Epoch 1/150\n",
            "45/45 [==============================] - 1s 2ms/step - loss: 0.7765 - accuracy: 0.5634\n",
            "Epoch 2/150\n",
            "45/45 [==============================] - 0s 2ms/step - loss: 0.7070 - accuracy: 0.6139\n",
            "Epoch 3/150\n",
            "45/45 [==============================] - 0s 2ms/step - loss: 0.6574 - accuracy: 0.6622\n",
            "Epoch 4/150\n",
            "45/45 [==============================] - 0s 2ms/step - loss: 0.5754 - accuracy: 0.7239\n",
            "Epoch 5/150\n",
            "45/45 [==============================] - 0s 2ms/step - loss: 0.7051 - accuracy: 0.6622\n",
            "Epoch 6/150\n",
            "45/45 [==============================] - 0s 2ms/step - loss: 0.5340 - accuracy: 0.7621\n",
            "Epoch 7/150\n",
            "45/45 [==============================] - 0s 2ms/step - loss: 0.5126 - accuracy: 0.7699\n",
            "Epoch 8/150\n",
            "45/45 [==============================] - 0s 2ms/step - loss: 0.4897 - accuracy: 0.7800\n",
            "Epoch 9/150\n",
            "45/45 [==============================] - 0s 2ms/step - loss: 0.4981 - accuracy: 0.7688\n",
            "Epoch 10/150\n",
            "45/45 [==============================] - 0s 2ms/step - loss: 0.5426 - accuracy: 0.7419\n",
            "Epoch 11/150\n",
            "45/45 [==============================] - 0s 2ms/step - loss: 0.5029 - accuracy: 0.7767\n",
            "Epoch 12/150\n",
            "45/45 [==============================] - 0s 2ms/step - loss: 0.5044 - accuracy: 0.7823\n",
            "Epoch 13/150\n",
            "45/45 [==============================] - 0s 2ms/step - loss: 0.4860 - accuracy: 0.7800\n",
            "Epoch 14/150\n",
            "45/45 [==============================] - 0s 2ms/step - loss: 0.5483 - accuracy: 0.7621\n",
            "Epoch 15/150\n",
            "45/45 [==============================] - 0s 2ms/step - loss: 0.4799 - accuracy: 0.7767\n",
            "Epoch 16/150\n",
            "45/45 [==============================] - 0s 2ms/step - loss: 0.4498 - accuracy: 0.8002\n",
            "Epoch 17/150\n",
            "45/45 [==============================] - 0s 2ms/step - loss: 0.4719 - accuracy: 0.7957\n",
            "Epoch 18/150\n",
            "45/45 [==============================] - 0s 2ms/step - loss: 0.4824 - accuracy: 0.7890\n",
            "Epoch 19/150\n",
            "45/45 [==============================] - 0s 2ms/step - loss: 0.4798 - accuracy: 0.7767\n",
            "Epoch 20/150\n",
            "45/45 [==============================] - 0s 2ms/step - loss: 0.4425 - accuracy: 0.8002\n",
            "Epoch 21/150\n",
            "45/45 [==============================] - 0s 2ms/step - loss: 0.4567 - accuracy: 0.8058\n",
            "Epoch 22/150\n",
            "45/45 [==============================] - 0s 2ms/step - loss: 0.4649 - accuracy: 0.7935\n",
            "Epoch 23/150\n",
            "45/45 [==============================] - 0s 2ms/step - loss: 0.4415 - accuracy: 0.8047\n",
            "Epoch 24/150\n",
            "45/45 [==============================] - 0s 2ms/step - loss: 0.4899 - accuracy: 0.7823\n",
            "Epoch 25/150\n",
            "45/45 [==============================] - 0s 2ms/step - loss: 0.4820 - accuracy: 0.7710\n",
            "Epoch 26/150\n",
            "45/45 [==============================] - 0s 2ms/step - loss: 0.4358 - accuracy: 0.8036\n",
            "Epoch 27/150\n",
            "45/45 [==============================] - 0s 2ms/step - loss: 0.4718 - accuracy: 0.7969\n",
            "Epoch 28/150\n",
            "45/45 [==============================] - 0s 2ms/step - loss: 0.4482 - accuracy: 0.8081\n",
            "Epoch 29/150\n",
            "45/45 [==============================] - 0s 2ms/step - loss: 0.4550 - accuracy: 0.8103\n",
            "Epoch 30/150\n",
            "45/45 [==============================] - 0s 2ms/step - loss: 0.5096 - accuracy: 0.7778\n",
            "Epoch 31/150\n",
            "45/45 [==============================] - 0s 2ms/step - loss: 0.4804 - accuracy: 0.7912\n",
            "Epoch 32/150\n",
            "45/45 [==============================] - 0s 2ms/step - loss: 0.4353 - accuracy: 0.8137\n",
            "Epoch 33/150\n",
            "45/45 [==============================] - 0s 2ms/step - loss: 0.4260 - accuracy: 0.8182\n",
            "Epoch 34/150\n",
            "45/45 [==============================] - 0s 2ms/step - loss: 0.5031 - accuracy: 0.7800\n",
            "Epoch 35/150\n",
            "45/45 [==============================] - 0s 2ms/step - loss: 0.4141 - accuracy: 0.8227\n",
            "Epoch 36/150\n",
            "45/45 [==============================] - 0s 2ms/step - loss: 0.4547 - accuracy: 0.8058\n",
            "Epoch 37/150\n",
            "45/45 [==============================] - 0s 2ms/step - loss: 0.4514 - accuracy: 0.8148\n",
            "Epoch 38/150\n",
            "45/45 [==============================] - 0s 2ms/step - loss: 0.4706 - accuracy: 0.7901\n",
            "Epoch 39/150\n",
            "45/45 [==============================] - 0s 2ms/step - loss: 0.4443 - accuracy: 0.8171\n",
            "Epoch 40/150\n",
            "45/45 [==============================] - 0s 2ms/step - loss: 0.4359 - accuracy: 0.8238\n",
            "Epoch 41/150\n",
            "45/45 [==============================] - 0s 2ms/step - loss: 0.4295 - accuracy: 0.8193\n",
            "Epoch 42/150\n",
            "45/45 [==============================] - 0s 2ms/step - loss: 0.5126 - accuracy: 0.7811\n",
            "Epoch 43/150\n",
            "45/45 [==============================] - 0s 2ms/step - loss: 0.4394 - accuracy: 0.8171\n",
            "Epoch 44/150\n",
            "45/45 [==============================] - 0s 2ms/step - loss: 0.4819 - accuracy: 0.7969\n",
            "Epoch 45/150\n",
            "45/45 [==============================] - 0s 2ms/step - loss: 0.4534 - accuracy: 0.7935\n",
            "Epoch 46/150\n",
            "45/45 [==============================] - 0s 2ms/step - loss: 0.4342 - accuracy: 0.8193\n",
            "Epoch 47/150\n",
            "45/45 [==============================] - 0s 2ms/step - loss: 0.4151 - accuracy: 0.8193\n",
            "Epoch 48/150\n",
            "45/45 [==============================] - 0s 2ms/step - loss: 0.4285 - accuracy: 0.8148\n",
            "Epoch 49/150\n",
            "45/45 [==============================] - 0s 2ms/step - loss: 0.4130 - accuracy: 0.8204\n",
            "Epoch 50/150\n",
            "45/45 [==============================] - 0s 2ms/step - loss: 0.4364 - accuracy: 0.8215\n",
            "Epoch 51/150\n",
            "45/45 [==============================] - 0s 2ms/step - loss: 0.4268 - accuracy: 0.8126\n",
            "Epoch 52/150\n",
            "45/45 [==============================] - 0s 2ms/step - loss: 0.4625 - accuracy: 0.8013\n",
            "Epoch 53/150\n",
            "45/45 [==============================] - 0s 2ms/step - loss: 0.4651 - accuracy: 0.8103\n",
            "Epoch 54/150\n",
            "45/45 [==============================] - 0s 2ms/step - loss: 0.4331 - accuracy: 0.8159\n",
            "Epoch 55/150\n",
            "45/45 [==============================] - 0s 2ms/step - loss: 0.4552 - accuracy: 0.8171\n",
            "Epoch 56/150\n",
            "45/45 [==============================] - 0s 2ms/step - loss: 0.4692 - accuracy: 0.8013\n",
            "Epoch 57/150\n",
            "45/45 [==============================] - 0s 2ms/step - loss: 0.4171 - accuracy: 0.8249\n",
            "Epoch 58/150\n",
            "45/45 [==============================] - 0s 2ms/step - loss: 0.4123 - accuracy: 0.8204\n",
            "Epoch 59/150\n",
            "45/45 [==============================] - 0s 2ms/step - loss: 0.4494 - accuracy: 0.8002\n",
            "Epoch 60/150\n",
            "45/45 [==============================] - 0s 2ms/step - loss: 0.4683 - accuracy: 0.7845\n",
            "Epoch 61/150\n",
            "45/45 [==============================] - 0s 2ms/step - loss: 0.4233 - accuracy: 0.8137\n",
            "Epoch 62/150\n",
            "45/45 [==============================] - 0s 2ms/step - loss: 0.4859 - accuracy: 0.7868\n",
            "Epoch 63/150\n",
            "45/45 [==============================] - 0s 2ms/step - loss: 0.4248 - accuracy: 0.8182\n",
            "Epoch 64/150\n",
            "45/45 [==============================] - 0s 2ms/step - loss: 0.4054 - accuracy: 0.8328\n",
            "Epoch 65/150\n",
            "45/45 [==============================] - 0s 2ms/step - loss: 0.4237 - accuracy: 0.8272\n",
            "Epoch 66/150\n",
            "45/45 [==============================] - 0s 2ms/step - loss: 0.4058 - accuracy: 0.8272\n",
            "Epoch 67/150\n",
            "45/45 [==============================] - 0s 2ms/step - loss: 0.4436 - accuracy: 0.8148\n",
            "Epoch 68/150\n",
            "45/45 [==============================] - 0s 2ms/step - loss: 0.4195 - accuracy: 0.8159\n",
            "Epoch 69/150\n",
            "45/45 [==============================] - 0s 2ms/step - loss: 0.4005 - accuracy: 0.8294\n",
            "Epoch 70/150\n",
            "45/45 [==============================] - 0s 2ms/step - loss: 0.4376 - accuracy: 0.8103\n",
            "Epoch 71/150\n",
            "45/45 [==============================] - 0s 2ms/step - loss: 0.4636 - accuracy: 0.8036\n",
            "Epoch 72/150\n",
            "45/45 [==============================] - 0s 2ms/step - loss: 0.4697 - accuracy: 0.8036\n",
            "Epoch 73/150\n",
            "45/45 [==============================] - 0s 2ms/step - loss: 0.4135 - accuracy: 0.8215\n",
            "Epoch 74/150\n",
            "45/45 [==============================] - 0s 2ms/step - loss: 0.3980 - accuracy: 0.8350\n",
            "Epoch 75/150\n",
            "45/45 [==============================] - 0s 2ms/step - loss: 0.3985 - accuracy: 0.8272\n",
            "Epoch 76/150\n",
            "45/45 [==============================] - 0s 2ms/step - loss: 0.4022 - accuracy: 0.8373\n",
            "Epoch 77/150\n",
            "45/45 [==============================] - 0s 2ms/step - loss: 0.4027 - accuracy: 0.8294\n",
            "Epoch 78/150\n",
            "45/45 [==============================] - 0s 2ms/step - loss: 0.4019 - accuracy: 0.8249\n",
            "Epoch 79/150\n",
            "45/45 [==============================] - 0s 2ms/step - loss: 0.4118 - accuracy: 0.8215\n",
            "Epoch 80/150\n",
            "45/45 [==============================] - 0s 2ms/step - loss: 0.3947 - accuracy: 0.8294\n",
            "Epoch 81/150\n",
            "45/45 [==============================] - 0s 2ms/step - loss: 0.4140 - accuracy: 0.8249\n",
            "Epoch 82/150\n",
            "45/45 [==============================] - 0s 2ms/step - loss: 0.4005 - accuracy: 0.8328\n",
            "Epoch 83/150\n",
            "45/45 [==============================] - 0s 2ms/step - loss: 0.4630 - accuracy: 0.7957\n",
            "Epoch 84/150\n",
            "45/45 [==============================] - 0s 2ms/step - loss: 0.4066 - accuracy: 0.8316\n",
            "Epoch 85/150\n",
            "45/45 [==============================] - 0s 2ms/step - loss: 0.4092 - accuracy: 0.8260\n",
            "Epoch 86/150\n",
            "45/45 [==============================] - 0s 2ms/step - loss: 0.4287 - accuracy: 0.8148\n",
            "Epoch 87/150\n",
            "45/45 [==============================] - 0s 2ms/step - loss: 0.4299 - accuracy: 0.8103\n",
            "Epoch 88/150\n",
            "45/45 [==============================] - 0s 2ms/step - loss: 0.5057 - accuracy: 0.7744\n",
            "Epoch 89/150\n",
            "45/45 [==============================] - 0s 2ms/step - loss: 0.4683 - accuracy: 0.7901\n",
            "Epoch 90/150\n",
            "45/45 [==============================] - 0s 2ms/step - loss: 0.4125 - accuracy: 0.8159\n",
            "Epoch 91/150\n",
            "45/45 [==============================] - 0s 2ms/step - loss: 0.3881 - accuracy: 0.8373\n",
            "Epoch 92/150\n",
            "45/45 [==============================] - 0s 2ms/step - loss: 0.4016 - accuracy: 0.8350\n",
            "Epoch 93/150\n",
            "45/45 [==============================] - 0s 2ms/step - loss: 0.4022 - accuracy: 0.8272\n",
            "Epoch 94/150\n",
            "45/45 [==============================] - 0s 2ms/step - loss: 0.3904 - accuracy: 0.8373\n",
            "Epoch 95/150\n",
            "45/45 [==============================] - 0s 2ms/step - loss: 0.3978 - accuracy: 0.8283\n",
            "Epoch 96/150\n",
            "45/45 [==============================] - 0s 2ms/step - loss: 0.4056 - accuracy: 0.8249\n",
            "Epoch 97/150\n",
            "45/45 [==============================] - 0s 2ms/step - loss: 0.4065 - accuracy: 0.8159\n",
            "Epoch 98/150\n",
            "45/45 [==============================] - 0s 2ms/step - loss: 0.4485 - accuracy: 0.7991\n",
            "Epoch 99/150\n",
            "45/45 [==============================] - 0s 2ms/step - loss: 0.4107 - accuracy: 0.8159\n",
            "Epoch 100/150\n",
            "45/45 [==============================] - 0s 2ms/step - loss: 0.4307 - accuracy: 0.8159\n",
            "Epoch 101/150\n",
            "45/45 [==============================] - 0s 2ms/step - loss: 0.4154 - accuracy: 0.8159\n",
            "Epoch 102/150\n",
            "45/45 [==============================] - 0s 2ms/step - loss: 0.3974 - accuracy: 0.8350\n",
            "Epoch 103/150\n",
            "45/45 [==============================] - 0s 2ms/step - loss: 0.4224 - accuracy: 0.8204\n",
            "Epoch 104/150\n",
            "45/45 [==============================] - 0s 2ms/step - loss: 0.4162 - accuracy: 0.8227\n",
            "Epoch 105/150\n",
            "45/45 [==============================] - 0s 2ms/step - loss: 0.4217 - accuracy: 0.8204\n",
            "Epoch 106/150\n",
            "45/45 [==============================] - 0s 2ms/step - loss: 0.3964 - accuracy: 0.8328\n",
            "Epoch 107/150\n",
            "45/45 [==============================] - 0s 2ms/step - loss: 0.4269 - accuracy: 0.8148\n",
            "Epoch 108/150\n",
            "45/45 [==============================] - 0s 2ms/step - loss: 0.4062 - accuracy: 0.8350\n",
            "Epoch 109/150\n",
            "45/45 [==============================] - 0s 2ms/step - loss: 0.3841 - accuracy: 0.8384\n",
            "Epoch 110/150\n",
            "45/45 [==============================] - 0s 2ms/step - loss: 0.3991 - accuracy: 0.8215\n",
            "Epoch 111/150\n",
            "45/45 [==============================] - 0s 2ms/step - loss: 0.4058 - accuracy: 0.8316\n",
            "Epoch 112/150\n",
            "45/45 [==============================] - 0s 2ms/step - loss: 0.4018 - accuracy: 0.8249\n",
            "Epoch 113/150\n",
            "45/45 [==============================] - 0s 2ms/step - loss: 0.4192 - accuracy: 0.8238\n",
            "Epoch 114/150\n",
            "45/45 [==============================] - 0s 2ms/step - loss: 0.4320 - accuracy: 0.8159\n",
            "Epoch 115/150\n",
            "45/45 [==============================] - 0s 2ms/step - loss: 0.4067 - accuracy: 0.8238\n",
            "Epoch 116/150\n",
            "45/45 [==============================] - 0s 2ms/step - loss: 0.3896 - accuracy: 0.8361\n",
            "Epoch 117/150\n",
            "45/45 [==============================] - 0s 2ms/step - loss: 0.4234 - accuracy: 0.8283\n",
            "Epoch 118/150\n",
            "45/45 [==============================] - 0s 2ms/step - loss: 0.4097 - accuracy: 0.8305\n",
            "Epoch 119/150\n",
            "45/45 [==============================] - 0s 2ms/step - loss: 0.3977 - accuracy: 0.8238\n",
            "Epoch 120/150\n",
            "45/45 [==============================] - 0s 2ms/step - loss: 0.3922 - accuracy: 0.8305\n",
            "Epoch 121/150\n",
            "45/45 [==============================] - 0s 2ms/step - loss: 0.3933 - accuracy: 0.8294\n",
            "Epoch 122/150\n",
            "45/45 [==============================] - 0s 2ms/step - loss: 0.4152 - accuracy: 0.8260\n",
            "Epoch 123/150\n",
            "45/45 [==============================] - 0s 2ms/step - loss: 0.4483 - accuracy: 0.8047\n",
            "Epoch 124/150\n",
            "45/45 [==============================] - 0s 2ms/step - loss: 0.4164 - accuracy: 0.8204\n",
            "Epoch 125/150\n",
            "45/45 [==============================] - 0s 2ms/step - loss: 0.4030 - accuracy: 0.8260\n",
            "Epoch 126/150\n",
            "45/45 [==============================] - 0s 2ms/step - loss: 0.4145 - accuracy: 0.8171\n",
            "Epoch 127/150\n",
            "45/45 [==============================] - 0s 2ms/step - loss: 0.4064 - accuracy: 0.8272\n",
            "Epoch 128/150\n",
            "45/45 [==============================] - 0s 2ms/step - loss: 0.4023 - accuracy: 0.8171\n",
            "Epoch 129/150\n",
            "45/45 [==============================] - 0s 2ms/step - loss: 0.3844 - accuracy: 0.8384\n",
            "Epoch 130/150\n",
            "45/45 [==============================] - 0s 2ms/step - loss: 0.3919 - accuracy: 0.8204\n",
            "Epoch 131/150\n",
            "45/45 [==============================] - 0s 2ms/step - loss: 0.4520 - accuracy: 0.8103\n",
            "Epoch 132/150\n",
            "45/45 [==============================] - 0s 2ms/step - loss: 0.3991 - accuracy: 0.8283\n",
            "Epoch 133/150\n",
            "45/45 [==============================] - 0s 2ms/step - loss: 0.3892 - accuracy: 0.8328\n",
            "Epoch 134/150\n",
            "45/45 [==============================] - 0s 2ms/step - loss: 0.4074 - accuracy: 0.8260\n",
            "Epoch 135/150\n",
            "45/45 [==============================] - 0s 2ms/step - loss: 0.3785 - accuracy: 0.8361\n",
            "Epoch 136/150\n",
            "45/45 [==============================] - 0s 2ms/step - loss: 0.3963 - accuracy: 0.8260\n",
            "Epoch 137/150\n",
            "45/45 [==============================] - 0s 2ms/step - loss: 0.4061 - accuracy: 0.8328\n",
            "Epoch 138/150\n",
            "45/45 [==============================] - 0s 2ms/step - loss: 0.3969 - accuracy: 0.8227\n",
            "Epoch 139/150\n",
            "45/45 [==============================] - 0s 2ms/step - loss: 0.3997 - accuracy: 0.8227\n",
            "Epoch 140/150\n",
            "45/45 [==============================] - 0s 2ms/step - loss: 0.3879 - accuracy: 0.8373\n",
            "Epoch 141/150\n",
            "45/45 [==============================] - 0s 2ms/step - loss: 0.3960 - accuracy: 0.8384\n",
            "Epoch 142/150\n",
            "45/45 [==============================] - 0s 2ms/step - loss: 0.4144 - accuracy: 0.8272\n",
            "Epoch 143/150\n",
            "45/45 [==============================] - 0s 2ms/step - loss: 0.4455 - accuracy: 0.8092\n",
            "Epoch 144/150\n",
            "45/45 [==============================] - 0s 2ms/step - loss: 0.4020 - accuracy: 0.8305\n",
            "Epoch 145/150\n",
            "45/45 [==============================] - 0s 2ms/step - loss: 0.4248 - accuracy: 0.8148\n",
            "Epoch 146/150\n",
            "45/45 [==============================] - 0s 2ms/step - loss: 0.4038 - accuracy: 0.8305\n",
            "Epoch 147/150\n",
            "45/45 [==============================] - 0s 2ms/step - loss: 0.4057 - accuracy: 0.8182\n",
            "Epoch 148/150\n",
            "45/45 [==============================] - 0s 2ms/step - loss: 0.4784 - accuracy: 0.7991\n",
            "Epoch 149/150\n",
            "45/45 [==============================] - 0s 2ms/step - loss: 0.4199 - accuracy: 0.8249\n",
            "Epoch 150/150\n",
            "45/45 [==============================] - 0s 2ms/step - loss: 0.4062 - accuracy: 0.8406\n"
          ],
          "name": "stdout"
        },
        {
          "output_type": "execute_result",
          "data": {
            "text/plain": [
              "<keras.callbacks.History at 0x7f4891883690>"
            ]
          },
          "metadata": {},
          "execution_count": 121
        }
      ]
    },
    {
      "cell_type": "code",
      "metadata": {
        "colab": {
          "base_uri": "https://localhost:8080/"
        },
        "id": "vgiR_Nw-YCGR",
        "outputId": "a16af1ee-d81f-40bc-e3df-a74aa95147e6"
      },
      "source": [
        "_, accuracy = model.evaluate(train_new, y)\n",
        "print('Accuracy: %.2f' % (accuracy*100))"
      ],
      "execution_count": null,
      "outputs": [
        {
          "output_type": "stream",
          "text": [
            "28/28 [==============================] - 0s 1ms/step - loss: 0.3763 - accuracy: 0.8440\n",
            "Accuracy: 84.40\n"
          ],
          "name": "stdout"
        }
      ]
    },
    {
      "cell_type": "code",
      "metadata": {
        "id": "dubord1TYYZr"
      },
      "source": [
        "predictions = model.predict(test_new)"
      ],
      "execution_count": null,
      "outputs": []
    },
    {
      "cell_type": "code",
      "metadata": {
        "id": "eWmfmoBLY-Nm"
      },
      "source": [
        "bins = lambda x: 0 if x <= 0.5 else 1\n",
        "predictions = np.array([bins(x) for x in predictions])"
      ],
      "execution_count": null,
      "outputs": []
    },
    {
      "cell_type": "code",
      "metadata": {
        "colab": {
          "base_uri": "https://localhost:8080/",
          "height": 50
        },
        "id": "8AbARiEAbC_L",
        "outputId": "c8cc93bd-1a9e-4afa-d07c-84c0ae3b51c7"
      },
      "source": [
        "output = pd.DataFrame({'PassengerId': test.PassengerId, 'Survived': predictions})\n",
        "output.to_csv('my_submission.csv', index=False)\n",
        "print('Your submission was successfully saved!')\n",
        "\n",
        "from IPython.display import HTML\n",
        "import base64\n",
        "def create_download_link(df, title = \"Download CSV file\", filename = \"data.csv\"):  \n",
        "    csv = df.to_csv(index=False)\n",
        "    b64 = base64.b64encode(csv.encode())\n",
        "    payload = b64.decode()\n",
        "    html = '<a download=\"{filename}\" href=\"data:text/csv;base64,{payload}\" target=\"_blank\">{title}</a>'\n",
        "    html = html.format(payload=payload,title=title,filename=filename)\n",
        "    return HTML(html)\n",
        "create_download_link(output)"
      ],
      "execution_count": null,
      "outputs": [
        {
          "output_type": "stream",
          "text": [
            "Your submission was successfully saved!\n"
          ],
          "name": "stdout"
        },
        {
          "output_type": "execute_result",
          "data": {
            "text/html": [
              "<a download=\"data.csv\" href=\"data:text/csv;base64,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\" target=\"_blank\">Download CSV file</a>"
            ],
            "text/plain": [
              "<IPython.core.display.HTML object>"
            ]
          },
          "metadata": {},
          "execution_count": 125
        }
      ]
    },
    {
      "cell_type": "code",
      "metadata": {
        "id": "euKkj3LmbNeh"
      },
      "source": [
        ""
      ],
      "execution_count": null,
      "outputs": []
    }
  ]
}
